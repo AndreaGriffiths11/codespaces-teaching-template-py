{
 "cells": [],
 "metadata": {
  "kernelspec": {
   "display_name": "Python 3.9.6 ('teaching-template')",
   "language": "python",
   "name": "python3"
  },
  "language_info": {
   "codemirror_mode": {
    "name": "ipython",
    "version": 3
   },
   "file_extension": ".py",
   "mimetype": "text/x-python",
   "name": "python",
   "nbconvert_exporter": "python",
   "pygments_lexer": "ipython3",
   "version": "3.9.6"
  },
  "orig_nbformat": 4,
  "vscode": {
   "interpreter": {
    "hash": "b30d76c8280edea5a81dfa5ee86b0495e07787fd39e4a11e740cc8c2283ac38d"
   }
  }
 },
 "nbformat": 4,
 "nbformat_minor": 2
}
